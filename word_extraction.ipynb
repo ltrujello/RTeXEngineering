{
 "cells": [
  {
   "cell_type": "code",
   "execution_count": 1,
   "id": "96dd5c7a",
   "metadata": {},
   "outputs": [],
   "source": [
    "from word_extraction import PDF_Document"
   ]
  },
  {
   "cell_type": "code",
   "execution_count": 2,
   "id": "60281dee",
   "metadata": {},
   "outputs": [],
   "source": [
    "# Atiyah-Macdonald\n",
    "data = \"data/\"\n",
    "pdf_file = \"pdf/hartshorne/Hartshorne_Algebraic_Geometry.pdf\"\n",
    "\n",
    "hartshorne = PDF_Document(pdf_file, data)"
   ]
  },
  {
   "cell_type": "code",
   "execution_count": 3,
   "id": "2ec824ee",
   "metadata": {},
   "outputs": [],
   "source": [
    "hartshorne.generate_word_data()"
   ]
  },
  {
   "cell_type": "code",
   "execution_count": 1,
   "id": "e5ac5138",
   "metadata": {},
   "outputs": [],
   "source": [
    "import numpy as np\n",
    "from PIL import Image\n",
    "from pdf2image import convert_from_path\n",
    "from pathlib import Path"
   ]
  },
  {
   "cell_type": "code",
   "execution_count": 2,
   "id": "c61fdbd0",
   "metadata": {},
   "outputs": [],
   "source": [
    "def img_to_array(img_file: str) -> np.array:\n",
    "    \"\"\" Load image in as np.array.\n",
    "    \"\"\"\n",
    "    image = Image.open(img_file).convert('L')\n",
    "    w, h = image.size\n",
    "    data = np.array(list(image.getdata()), dtype=np.uint8).reshape(h, w) # store values to numpy array\n",
    "    return data"
   ]
  },
  {
   "cell_type": "code",
   "execution_count": 63,
   "id": "ec76fd87",
   "metadata": {},
   "outputs": [],
   "source": [
    "img = img_to_array(\"/home/luke/PDF_Word_Extraction/data/lorem_ipsum/page_0/sentence_0_1/words/word_0_1_13.png\")"
   ]
  },
  {
   "cell_type": "code",
   "execution_count": 64,
   "id": "e3362c9f",
   "metadata": {},
   "outputs": [],
   "source": [
    "thing = Image.fromarray(img)"
   ]
  },
  {
   "cell_type": "code",
   "execution_count": 66,
   "id": "fde1d6b7",
   "metadata": {},
   "outputs": [
    {
     "data": {
      "text/plain": [
       "(76, 259)"
      ]
     },
     "execution_count": 66,
     "metadata": {},
     "output_type": "execute_result"
    }
   ],
   "source": [
    "img.shape"
   ]
  },
  {
   "cell_type": "code",
   "execution_count": 5,
   "id": "3216b4ac",
   "metadata": {},
   "outputs": [],
   "source": [
    "def letters_in_word(word: np.array) -> list[np.array]:\n",
    "    \"\"\" Given a pixel array representing an image of a single word, we look for and extract the columns\n",
    "    of pixels which represent letters in the word.\n",
    "    \"\"\"\n",
    "    word = word.T\n",
    "    word_h = word.shape[1]\n",
    "    i = 0 \n",
    "    letters = []\n",
    "    while i < len(word) - 1:\n",
    "        letter = []\n",
    "        letter.append(word[i].reshape(word_h, 1))  # Reshape for hstack later\n",
    "        j = i \n",
    "        while j < len(word) - 1:\n",
    "            col1 = word[j]\n",
    "            col2 = word[j + 1]\n",
    "\n",
    "            col1_nonwhite = (col1 < 230).astype('int')\n",
    "            col2_nonwhite = (col2 < 230).astype('int')\n",
    "\n",
    "            if int(np.inner(col1_nonwhite, col2_nonwhite)) != 0:\n",
    "                j += 1 \n",
    "                letter.append(col2.reshape(word_h, 1))  # Reshape for hstack later\n",
    "            else:\n",
    "                break\n",
    "        i += len(letter)\n",
    "        if len(letter) > 2:  # Too small to be of any relevant detail to the eye\n",
    "            letters.append(letter)\n",
    "\n",
    "    letter_arrays = []\n",
    "    for letter in letters:\n",
    "        array = letter[0]\n",
    "        for i in range(1, len(letter)):\n",
    "            array = np.hstack((array, letter[i]))\n",
    "        letter_arrays.append(array.astype('uint8'))\n",
    "    return letter_arrays\n"
   ]
  },
  {
   "cell_type": "code",
   "execution_count": 46,
   "id": "04596b19",
   "metadata": {},
   "outputs": [
    {
     "name": "stdout",
     "output_type": "stream",
     "text": [
      "Files already downloaded and verified\n",
      "The number of images in a training set is:  50000\n",
      "Files already downloaded and verified\n",
      "The number of images in a test set is:  10000\n",
      "The number of batches per epoch is:  5000\n"
     ]
    }
   ],
   "source": [
    "from torchvision.datasets import CIFAR10\n",
    "from torchvision.transforms import transforms\n",
    "from torch.utils.data import DataLoader\n",
    "\n",
    "# Loading and normalizing the data.\n",
    "# Define transformations for the training and test sets\n",
    "transformations = transforms.Compose([\n",
    "    transforms.ToTensor(),\n",
    "    #transforms.Normalize((0.5, 0.5, 0.5), (0.5, 0.5, 0.5))\n",
    "])\n",
    "\n",
    "# CIFAR10 dataset consists of 50K training images. We define the batch size of 10 to load 5,000 batches of images.\n",
    "batch_size = 10\n",
    "number_of_labels = 10 \n",
    "\n",
    "# Create an instance for training. \n",
    "# When we run this code for the first time, the CIFAR10 train dataset will be downloaded locally. \n",
    "train_set = CIFAR10(root=\"./data\",train=True,transform=transformations,download=True)\n",
    "\n",
    "# Create a loader for the training set which will read the data within batch size and put into memory.\n",
    "train_loader = DataLoader(train_set, batch_size=batch_size, shuffle=True, num_workers=0)\n",
    "print(\"The number of images in a training set is: \", len(train_loader)*batch_size)\n",
    "\n",
    "# Create an instance for testing, note that train is set to False.\n",
    "# When we run this code for the first time, the CIFAR10 test dataset will be downloaded locally. \n",
    "test_set = CIFAR10(root=\"./data\", train=False, transform=transformations, download=True)\n",
    "\n",
    "# Create a loader for the test set which will read the data within batch size and put into memory. \n",
    "# Note that each shuffle is set to false for the test loader.\n",
    "test_loader = DataLoader(test_set, batch_size=batch_size, shuffle=False, num_workers=0)\n",
    "print(\"The number of images in a test set is: \", len(test_loader)*batch_size)\n",
    "\n",
    "print(\"The number of batches per epoch is: \", len(train_loader))\n",
    "classes = ('plane', 'car', 'bird', 'cat', 'deer', 'dog', 'frog', 'horse', 'ship', 'truck')"
   ]
  },
  {
   "cell_type": "code",
   "execution_count": 35,
   "id": "ead4fad7",
   "metadata": {},
   "outputs": [],
   "source": [
    "import matplotlib.pyplot as plt"
   ]
  },
  {
   "cell_type": "code",
   "execution_count": 47,
   "id": "ccea83ca",
   "metadata": {},
   "outputs": [],
   "source": [
    "image, label = iter(train_loader).next()"
   ]
  },
  {
   "cell_type": "code",
   "execution_count": 48,
   "id": "ba361b6a",
   "metadata": {},
   "outputs": [
    {
     "data": {
      "text/plain": [
       "torch.Size([3, 32, 32])"
      ]
     },
     "execution_count": 48,
     "metadata": {},
     "output_type": "execute_result"
    }
   ],
   "source": [
    "image[0].shape"
   ]
  },
  {
   "cell_type": "code",
   "execution_count": 61,
   "id": "4cea4883",
   "metadata": {},
   "outputs": [
    {
     "data": {
      "text/plain": [
       "<matplotlib.image.AxesImage at 0x7fa2e7583610>"
      ]
     },
     "execution_count": 61,
     "metadata": {},
     "output_type": "execute_result"
    },
    {
     "data": {
      "image/png": "[encoded data removed]",
      "text/plain": [
       "<Figure size 432x288 with 1 Axes>"
      ]
     },
     "metadata": {
      "needs_background": "light"
     },
     "output_type": "display_data"
    }
   ],
   "source": [
    "plt.imshow(image[9].permute(1, 2, 0))"
   ]
  },
  {
   "cell_type": "code",
   "execution_count": 71,
   "id": "9a862689",
   "metadata": {},
   "outputs": [
    {
     "ename": "ModuleNotFoundError",
     "evalue": "No module named 'pandas'",
     "output_type": "error",
     "traceback": [
      "\u001b[0;31m---------------------------------------------------------------------------\u001b[0m",
      "\u001b[0;31mModuleNotFoundError\u001b[0m                       Traceback (most recent call last)",
      "Input \u001b[0;32mIn [71]\u001b[0m, in \u001b[0;36m<cell line: 3>\u001b[0;34m()\u001b[0m\n\u001b[1;32m      1\u001b[0m \u001b[38;5;28;01mfrom\u001b[39;00m \u001b[38;5;21;01mtorch\u001b[39;00m\u001b[38;5;21;01m.\u001b[39;00m\u001b[38;5;21;01mutils\u001b[39;00m\u001b[38;5;21;01m.\u001b[39;00m\u001b[38;5;21;01mdata\u001b[39;00m \u001b[38;5;28;01mimport\u001b[39;00m Dataset, DataLoader\n\u001b[1;32m      2\u001b[0m \u001b[38;5;28;01mfrom\u001b[39;00m \u001b[38;5;21;01mpathlib\u001b[39;00m \u001b[38;5;28;01mimport\u001b[39;00m Path\n\u001b[0;32m----> 3\u001b[0m \u001b[38;5;28;01mimport\u001b[39;00m \u001b[38;5;21;01mpandas\u001b[39;00m \u001b[38;5;28;01mas\u001b[39;00m \u001b[38;5;21;01mpd\u001b[39;00m\n\u001b[1;32m      5\u001b[0m \u001b[38;5;28;01mclass\u001b[39;00m \u001b[38;5;21;01mLetterDataset\u001b[39;00m(Dataset):\n\u001b[1;32m      6\u001b[0m     \u001b[38;5;124;03m\"\"\"Letter dataset.\"\"\"\u001b[39;00m\n",
      "\u001b[0;31mModuleNotFoundError\u001b[0m: No module named 'pandas'"
     ]
    }
   ],
   "source": [
    "from torch.utils.data import Dataset, DataLoader\n",
    "from pathlib import Path\n",
    "import pandas as pd\n",
    "\n",
    "class LetterDataset(Dataset):\n",
    "    \"\"\"Letter dataset.\"\"\"\n",
    "\n",
    "    def __init__(self, csv_file, root_dir, transform=None):\n",
    "        \"\"\"\n",
    "        Args:\n",
    "            csv_file (string): Path to the csv file with annotations.\n",
    "            root_dir (string): Directory with all the images.\n",
    "            transform (callable, optional): Optional transform to be applied\n",
    "                on a sample.\n",
    "        \"\"\"\n",
    "        self.letters_frame = pd.read_csv(csv_file)\n",
    "        self.root_dir = Path(root_dir)\n",
    "        self.transform = transform\n",
    "\n",
    "    def __len__(self):\n",
    "        return len(self.landmarks_frame)\n",
    "\n",
    "    def __getitem__(self, idx):\n",
    "        if torch.is_tensor(idx):\n",
    "            idx = idx.tolist()\n",
    "\n",
    "        img_name = self.root_dir / self.letters_frame.iloc[idx, 0]\n",
    "        image = io.imread(img_name)\n",
    "        letter = self.letters_frame.iloc[idx, 1:]\n",
    "        letter = np.array([letter])\n",
    "        letter = letter.astype(\"float\").reshape(-1, 2)\n",
    "        sample = {\"image\": image, \"letter\": letter}\n",
    "        \n",
    "#        img_name = os.path.join(self.root_dir,\n",
    "#                                self.landmarks_frame.iloc[idx, 0])\n",
    "#        image = io.imread(img_name)\n",
    "#        landmarks = self.landmarks_frame.iloc[idx, 1:]\n",
    "#        landmarks = np.array([landmarks])\n",
    "#        landmarks = landmarks.astype('float').reshape(-1, 2)\n",
    "#        sample = {'image': image, 'landmarks': landmarks}\n",
    "#\n",
    "        if self.transform:\n",
    "            sample = self.transform(sample)\n",
    "\n",
    "        return sample"
   ]
  },
  {
   "cell_type": "code",
   "execution_count": null,
   "id": "16a28bde",
   "metadata": {},
   "outputs": [],
   "source": []
  }
 ],
 "metadata": {
  "kernelspec": {
   "display_name": "Python 3 (ipykernel)",
   "language": "python",
   "name": "python3"
  },
  "language_info": {
   "codemirror_mode": {
    "name": "ipython",
    "version": 3
   },
   "file_extension": ".py",
   "mimetype": "text/x-python",
   "name": "python",
   "nbconvert_exporter": "python",
   "pygments_lexer": "ipython3",
   "version": "3.10.4"
  }
 },
 "nbformat": 4,
 "nbformat_minor": 5
}
