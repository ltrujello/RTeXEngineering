{
 "cells": [
  {
   "cell_type": "code",
   "execution_count": 1,
   "id": "96dd5c7a",
   "metadata": {},
   "outputs": [],
   "source": [
    "from word_extraction import PDF_Document"
   ]
  },
  {
   "cell_type": "code",
   "execution_count": 2,
   "id": "60281dee",
   "metadata": {},
   "outputs": [],
   "source": [
    "# Atiyah-Macdonald\n",
    "data = \"data/\"\n",
    "pdf_file = \"pdf/hartshorne/Hartshorne_Algebraic_Geometry.pdf\"\n",
    "\n",
    "hartshorne = PDF_Document(pdf_file, data)"
   ]
  },
  {
   "cell_type": "code",
   "execution_count": 3,
   "id": "2ec824ee",
   "metadata": {},
   "outputs": [],
   "source": [
    "hartshorne.generate_word_data()"
   ]
  },
  {
   "cell_type": "code",
   "execution_count": 1,
   "id": "e5ac5138",
   "metadata": {},
   "outputs": [],
   "source": [
    "import numpy as np\n",
    "from PIL import Image\n",
    "from pdf2image import convert_from_path\n",
    "from pathlib import Path"
   ]
  },
  {
   "cell_type": "code",
   "execution_count": 2,
   "id": "c61fdbd0",
   "metadata": {},
   "outputs": [],
   "source": [
    "def img_to_array(img_file: str) -> np.array:\n",
    "    \"\"\" Load image in as np.array.\n",
    "    \"\"\"\n",
    "    image = Image.open(img_file).convert('L')\n",
    "    w, h = image.size\n",
    "    data = np.array(list(image.getdata()), dtype=np.uint8).reshape(h, w) # store values to numpy array\n",
    "    return data"
   ]
  },
  {
   "cell_type": "code",
   "execution_count": 63,
   "id": "ec76fd87",
   "metadata": {},
   "outputs": [],
   "source": [
    "img = img_to_array(\"/home/luke/PDF_Word_Extraction/data/lorem_ipsum/page_0/sentence_0_1/words/word_0_1_13.png\")"
   ]
  },
  {
   "cell_type": "code",
   "execution_count": 64,
   "id": "e3362c9f",
   "metadata": {},
   "outputs": [],
   "source": [
    "thing = Image.fromarray(img)"
   ]
  },
  {
   "cell_type": "code",
   "execution_count": 66,
   "id": "fde1d6b7",
   "metadata": {},
   "outputs": [
    {
     "data": {
      "text/plain": [
       "(76, 259)"
      ]
     },
     "execution_count": 66,
     "metadata": {},
     "output_type": "execute_result"
    }
   ],
   "source": [
    "img.shape"
   ]
  },
  {
   "cell_type": "code",
   "execution_count": 5,
   "id": "3216b4ac",
   "metadata": {},
   "outputs": [],
   "source": [
    "def letters_in_word(word: np.array) -> list[np.array]:\n",
    "    \"\"\" Given a pixel array representing an image of a single word, we look for and extract the columns\n",
    "    of pixels which represent letters in the word.\n",
    "    \"\"\"\n",
    "    word = word.T\n",
    "    word_h = word.shape[1]\n",
    "    i = 0 \n",
    "    letters = []\n",
    "    while i < len(word) - 1:\n",
    "        letter = []\n",
    "        letter.append(word[i].reshape(word_h, 1))  # Reshape for hstack later\n",
    "        j = i \n",
    "        while j < len(word) - 1:\n",
    "            col1 = word[j]\n",
    "            col2 = word[j + 1]\n",
    "\n",
    "            col1_nonwhite = (col1 < 230).astype('int')\n",
    "            col2_nonwhite = (col2 < 230).astype('int')\n",
    "\n",
    "            if int(np.inner(col1_nonwhite, col2_nonwhite)) != 0:\n",
    "                j += 1 \n",
    "                letter.append(col2.reshape(word_h, 1))  # Reshape for hstack later\n",
    "            else:\n",
    "                break\n",
    "        i += len(letter)\n",
    "        if len(letter) > 2:  # Too small to be of any relevant detail to the eye\n",
    "            letters.append(letter)\n",
    "\n",
    "    letter_arrays = []\n",
    "    for letter in letters:\n",
    "        array = letter[0]\n",
    "        for i in range(1, len(letter)):\n",
    "            array = np.hstack((array, letter[i]))\n",
    "        letter_arrays.append(array.astype('uint8'))\n",
    "    return letter_arrays\n"
   ]
  },
  {
   "cell_type": "code",
   "execution_count": 46,
   "id": "04596b19",
   "metadata": {},
   "outputs": [
    {
     "name": "stdout",
     "output_type": "stream",
     "text": [
      "Files already downloaded and verified\n",
      "The number of images in a training set is:  50000\n",
      "Files already downloaded and verified\n",
      "The number of images in a test set is:  10000\n",
      "The number of batches per epoch is:  5000\n"
     ]
    }
   ],
   "source": [
    "from torchvision.datasets import CIFAR10\n",
    "from torchvision.transforms import transforms\n",
    "from torch.utils.data import DataLoader\n",
    "\n",
    "# Loading and normalizing the data.\n",
    "# Define transformations for the training and test sets\n",
    "transformations = transforms.Compose([\n",
    "    transforms.ToTensor(),\n",
    "    #transforms.Normalize((0.5, 0.5, 0.5), (0.5, 0.5, 0.5))\n",
    "])\n",
    "\n",
    "# CIFAR10 dataset consists of 50K training images. We define the batch size of 10 to load 5,000 batches of images.\n",
    "batch_size = 10\n",
    "number_of_labels = 10 \n",
    "\n",
    "# Create an instance for training. \n",
    "# When we run this code for the first time, the CIFAR10 train dataset will be downloaded locally. \n",
    "train_set = CIFAR10(root=\"./data\",train=True,transform=transformations,download=True)\n",
    "\n",
    "# Create a loader for the training set which will read the data within batch size and put into memory.\n",
    "train_loader = DataLoader(train_set, batch_size=batch_size, shuffle=True, num_workers=0)\n",
    "print(\"The number of images in a training set is: \", len(train_loader)*batch_size)\n",
    "\n",
    "# Create an instance for testing, note that train is set to False.\n",
    "# When we run this code for the first time, the CIFAR10 test dataset will be downloaded locally. \n",
    "test_set = CIFAR10(root=\"./data\", train=False, transform=transformations, download=True)\n",
    "\n",
    "# Create a loader for the test set which will read the data within batch size and put into memory. \n",
    "# Note that each shuffle is set to false for the test loader.\n",
    "test_loader = DataLoader(test_set, batch_size=batch_size, shuffle=False, num_workers=0)\n",
    "print(\"The number of images in a test set is: \", len(test_loader)*batch_size)\n",
    "\n",
    "print(\"The number of batches per epoch is: \", len(train_loader))\n",
    "classes = ('plane', 'car', 'bird', 'cat', 'deer', 'dog', 'frog', 'horse', 'ship', 'truck')"
   ]
  },
  {
   "cell_type": "code",
   "execution_count": 35,
   "id": "ead4fad7",
   "metadata": {},
   "outputs": [],
   "source": [
    "import matplotlib.pyplot as plt"
   ]
  },
  {
   "cell_type": "code",
   "execution_count": 47,
   "id": "ccea83ca",
   "metadata": {},
   "outputs": [],
   "source": [
    "image, label = iter(train_loader).next()"
   ]
  },
  {
   "cell_type": "code",
   "execution_count": 48,
   "id": "ba361b6a",
   "metadata": {},
   "outputs": [
    {
     "data": {
      "text/plain": [
       "torch.Size([3, 32, 32])"
      ]
     },
     "execution_count": 48,
     "metadata": {},
     "output_type": "execute_result"
    }
   ],
   "source": [
    "image[0].shape"
   ]
  },
  {
   "cell_type": "code",
   "execution_count": 61,
   "id": "4cea4883",
   "metadata": {},
   "outputs": [
    {
     "data": {
      "text/plain": [
       "<matplotlib.image.AxesImage at 0x7fa2e7583610>"
      ]
     },
     "execution_count": 61,
     "metadata": {},
     "output_type": "execute_result"
    },
    {
     "data": {
      "image/png": "[encoded data removed]",
      "text/plain": [
       "<Figure size 432x288 with 1 Axes>"
      ]
     },
     "metadata": {
      "needs_background": "light"
     },
     "output_type": "display_data"
    }
   ],
   "source": [
    "plt.imshow(image[9].permute(1, 2, 0))"
   ]
  },
  {
   "cell_type": "code",
   "execution_count": 88,
   "id": "9a862689",
   "metadata": {},
   "outputs": [],
   "source": [
    "from torch.utils.data import Dataset, DataLoader\n",
    "from skimage import io, transform\n",
    "\n",
    "from pathlib import Path\n",
    "import pandas as pd\n",
    "import torch\n",
    "\n",
    "letters = [ \n",
    "\"a\", \"b\", \"c\", \"d\", \"e\", \"f\", \"g\", \"h\", \"i\", \"j\", \"k\", \"l\", \"m\", \"n\", \"o\", \"p\", \"q\", \"r\", \"s\", \"t\", \"u\", \"v\", \"w\", \"x\", \"y\", \"z\",\n",
    "\"A\", \"B\", \"C\", \"D\", \"E\", \"F\", \"G\", \"H\", \"I\", \"J\", \"K\", \"L\", \"M\", \"N\", \"O\", \"P\", \"Q\", \"R\", \"S\", \"T\", \"U\", \"V\", \"W\", \"X\", \"Y\", \"Z\",\n",
    "]\n",
    "\n",
    "def get_letter_ind(letter):\n",
    "    for idx, symbol in enumerate(letters):\n",
    "        if symbol == letter:\n",
    "            return idx \n",
    "    print(f\"Could not find index of {letter=}\")\n",
    "    return None\n",
    "\n",
    "\n",
    "\n",
    "class LetterDataset(Dataset):\n",
    "    \"\"\"Letter dataset.\"\"\"\n",
    "\n",
    "    def __init__(self, csv_file, root_dir, transform=None):\n",
    "        \"\"\" \n",
    "        Args:\n",
    "            csv_file (string): Path to the csv file with annotations.\n",
    "            root_dir (string): Directory with all the images.\n",
    "            transform (callable, optional): Optional transform to be applied\n",
    "                on a sample.\n",
    "        \"\"\"\n",
    "        self.letters_frame = pd.read_csv(csv_file)\n",
    "        self.root_dir = Path(root_dir)\n",
    "        self.transform = transform\n",
    "\n",
    "    def __len__(self):\n",
    "        return len(self.letters_frame)\n",
    "\n",
    "    def __getitem__(self, idx):\n",
    "        if torch.is_tensor(idx):\n",
    "            idx = idx.tolist()\n",
    "\n",
    "        img_name = self.letters_frame.iloc[idx, 0]\n",
    "        image = io.imread(img_name)\n",
    "        letter = self.letters_frame.iloc[idx, 1] \n",
    "        letter_ind = get_letter_ind(letter)\n",
    "        letter_vec = np.zeros(len(letters))\n",
    "        letter_vec[letter_ind] = 1 \n",
    "        sample = {\"image\": image, \"letter\": letter_vec}\n",
    "            \n",
    "        if self.transform:\n",
    "            sample = self.transform(sample)\n",
    "\n",
    "        return sample\n"
   ]
  },
  {
   "cell_type": "code",
   "execution_count": 101,
   "id": "16a28bde",
   "metadata": {},
   "outputs": [],
   "source": [
    "letter_dataset = LetterDataset(\"data/letters/labels.csv\", \"asdas\")"
   ]
  },
  {
   "cell_type": "code",
   "execution_count": 94,
   "id": "a9960b55",
   "metadata": {},
   "outputs": [],
   "source": [
    "b = a[4]"
   ]
  },
  {
   "cell_type": "code",
   "execution_count": 95,
   "id": "731da750",
   "metadata": {},
   "outputs": [
    {
     "data": {
      "text/plain": [
       "(59, 57)"
      ]
     },
     "execution_count": 95,
     "metadata": {},
     "output_type": "execute_result"
    }
   ],
   "source": [
    "b[\"image\"].shape"
   ]
  },
  {
   "cell_type": "code",
   "execution_count": 96,
   "id": "eb14a819",
   "metadata": {},
   "outputs": [
    {
     "data": {
      "text/plain": [
       "<matplotlib.image.AxesImage at 0x7fa2ab77cfa0>"
      ]
     },
     "execution_count": 96,
     "metadata": {},
     "output_type": "execute_result"
    },
    {
     "data": {
      "image/png": "[encoded data removed]",
      "text/plain": [
       "<Figure size 432x288 with 1 Axes>"
      ]
     },
     "metadata": {
      "needs_background": "light"
     },
     "output_type": "display_data"
    }
   ],
   "source": [
    "plt.imshow(b[\"image\"])"
   ]
  },
  {
   "cell_type": "code",
   "execution_count": 140,
   "id": "3a6fda05",
   "metadata": {},
   "outputs": [],
   "source": [
    "import torch\n",
    "from skimage import transform\n",
    "\n",
    "\n",
    "class Rescale(object):\n",
    "    \"\"\"Rescale the image in a sample to a given size.\n",
    "\n",
    "    Args:\n",
    "        output_size (tuple or int): Desired output size. If tuple, output is\n",
    "            matched to output_size. If int, smaller of image edges is matched\n",
    "            to output_size keeping aspect ratio the same.\n",
    "    \"\"\"\n",
    "\n",
    "    def __init__(self, output_size):\n",
    "        assert isinstance(output_size, (int, tuple))\n",
    "        self.output_size = output_size\n",
    "\n",
    "    def __call__(self, sample):\n",
    "        image = sample['image']\n",
    "\n",
    "        h, w = image.shape[:2]\n",
    "        if isinstance(self.output_size, int):\n",
    "            if h > w:\n",
    "                new_h, new_w = self.output_size * h / w, self.output_size\n",
    "            else:\n",
    "                new_h, new_w = self.output_size, self.output_size * w / h\n",
    "        else:\n",
    "            new_h, new_w = self.output_size\n",
    "\n",
    "        new_h, new_w = int(new_h), int(new_w)\n",
    "\n",
    "        img = transform.resize(image, (new_h, new_w))\n",
    "\n",
    "        return {'image': img, 'letter': sample[\"letter\"]}\n",
    "\n",
    "class RandomCrop(object):\n",
    "    \"\"\"Crop randomly the image in a sample.\n",
    "\n",
    "    Args:\n",
    "        output_size (tuple or int): Desired output size. If int, square crop\n",
    "            is made.\n",
    "    \"\"\"\n",
    "\n",
    "    def __init__(self, output_size):\n",
    "        assert isinstance(output_size, (int, tuple))\n",
    "        if isinstance(output_size, int):\n",
    "            self.output_size = (output_size, output_size)\n",
    "        else:\n",
    "            assert len(output_size) == 2\n",
    "            self.output_size = output_size\n",
    "\n",
    "    def __call__(self, sample):\n",
    "        image = sample['image']\n",
    "\n",
    "        h, w = image.shape[:2]\n",
    "        new_h, new_w = self.output_size\n",
    "        \n",
    "        if h - new_h <= 0:\n",
    "            print(f\"input shape is ({h=}, {w=})\")\n",
    "            print(f\"h - new_h <=0, {h=}, {new_h=}\")\n",
    "\n",
    "        if w - new_w <= 0:\n",
    "            print(f\"input shape is ({h=}, {w=})\")\n",
    "            print(f\"w - new_w <=0, {w=}, {new_w=}\")\n",
    "            \n",
    "        top = np.random.randint(0, h - new_h)\n",
    "        left = np.random.randint(0, w - new_w)\n",
    "\n",
    "        image = image[top: top + new_h,\n",
    "                      left: left + new_w]\n",
    "\n",
    "        return {'image': image, 'letter': sample[\"letter\"]}\n",
    "\n",
    "\n",
    "class ToTensor(object):\n",
    "    \"\"\"Convert ndarrays in sample to Tensors.\"\"\"\n",
    "\n",
    "    def __call__(self, sample):\n",
    "        image, letter = sample['image'], sample['letter']\n",
    "\n",
    "        # swap color axis because\n",
    "        # numpy image: H x W x C\n",
    "        # torch image: C x H x W\n",
    "        image = image.transpose((2, 0, 1))\n",
    "        return {'image': torch.from_numpy(image),\n",
    "                'letter': torch.from_numpy(letter)}\n"
   ]
  },
  {
   "cell_type": "code",
   "execution_count": 118,
   "id": "e12a52ee",
   "metadata": {},
   "outputs": [],
   "source": [
    "scale = Rescale((70,70))\n",
    "crop = RandomCrop((50,50))\n",
    "composed = transforms.Compose([scale, crop])"
   ]
  },
  {
   "cell_type": "code",
   "execution_count": 119,
   "id": "f1d6ae32",
   "metadata": {},
   "outputs": [
    {
     "data": {
      "text/plain": [
       "<matplotlib.image.AxesImage at 0x7fa2ab2b5870>"
      ]
     },
     "execution_count": 119,
     "metadata": {},
     "output_type": "execute_result"
    },
    {
     "data": {
      "image/png": "[encoded data removed]",
      "text/plain": [
       "<Figure size 432x288 with 1 Axes>"
      ]
     },
     "metadata": {
      "needs_background": "light"
     },
     "output_type": "display_data"
    }
   ],
   "source": [
    "plt.imshow(crop(sample)[\"image\"])"
   ]
  },
  {
   "cell_type": "code",
   "execution_count": 141,
   "id": "134812f2",
   "metadata": {},
   "outputs": [
    {
     "name": "stdout",
     "output_type": "stream",
     "text": [
      "input shape is (h=75, w=55)\n",
      "w - new_w <=0, w=55, new_w=60\n"
     ]
    },
    {
     "ename": "ValueError",
     "evalue": "high <= 0",
     "output_type": "error",
     "traceback": [
      "\u001b[0;31m---------------------------------------------------------------------------\u001b[0m",
      "\u001b[0;31mValueError\u001b[0m                                Traceback (most recent call last)",
      "Input \u001b[0;32mIn [141]\u001b[0m, in \u001b[0;36m<cell line: 8>\u001b[0;34m()\u001b[0m\n\u001b[1;32m      7\u001b[0m sample \u001b[38;5;241m=\u001b[39m letter_dataset[\u001b[38;5;241m6\u001b[39m]\n\u001b[1;32m      8\u001b[0m \u001b[38;5;28;01mfor\u001b[39;00m i, tsfrm \u001b[38;5;129;01min\u001b[39;00m \u001b[38;5;28menumerate\u001b[39m([scale, crop, composed]):\n\u001b[0;32m----> 9\u001b[0m     transformed_sample \u001b[38;5;241m=\u001b[39m \u001b[43mtsfrm\u001b[49m\u001b[43m(\u001b[49m\u001b[43msample\u001b[49m\u001b[43m)\u001b[49m\n\u001b[1;32m     11\u001b[0m     ax \u001b[38;5;241m=\u001b[39m plt\u001b[38;5;241m.\u001b[39msubplot(\u001b[38;5;241m1\u001b[39m, \u001b[38;5;241m3\u001b[39m, i \u001b[38;5;241m+\u001b[39m \u001b[38;5;241m1\u001b[39m)\n\u001b[1;32m     12\u001b[0m     plt\u001b[38;5;241m.\u001b[39mtight_layout()\n",
      "Input \u001b[0;32mIn [140]\u001b[0m, in \u001b[0;36mRandomCrop.__call__\u001b[0;34m(self, sample)\u001b[0m\n\u001b[1;32m     64\u001b[0m     \u001b[38;5;28mprint\u001b[39m(\u001b[38;5;124mf\u001b[39m\u001b[38;5;124m\"\u001b[39m\u001b[38;5;124mw - new_w <=0, \u001b[39m\u001b[38;5;132;01m{\u001b[39;00mw\u001b[38;5;132;01m=}\u001b[39;00m\u001b[38;5;124m, \u001b[39m\u001b[38;5;132;01m{\u001b[39;00mnew_w\u001b[38;5;132;01m=}\u001b[39;00m\u001b[38;5;124m\"\u001b[39m)\n\u001b[1;32m     66\u001b[0m top \u001b[38;5;241m=\u001b[39m np\u001b[38;5;241m.\u001b[39mrandom\u001b[38;5;241m.\u001b[39mrandint(\u001b[38;5;241m0\u001b[39m, h \u001b[38;5;241m-\u001b[39m new_h)\n\u001b[0;32m---> 67\u001b[0m left \u001b[38;5;241m=\u001b[39m \u001b[43mnp\u001b[49m\u001b[38;5;241;43m.\u001b[39;49m\u001b[43mrandom\u001b[49m\u001b[38;5;241;43m.\u001b[39;49m\u001b[43mrandint\u001b[49m\u001b[43m(\u001b[49m\u001b[38;5;241;43m0\u001b[39;49m\u001b[43m,\u001b[49m\u001b[43m \u001b[49m\u001b[43mw\u001b[49m\u001b[43m \u001b[49m\u001b[38;5;241;43m-\u001b[39;49m\u001b[43m \u001b[49m\u001b[43mnew_w\u001b[49m\u001b[43m)\u001b[49m\n\u001b[1;32m     69\u001b[0m image \u001b[38;5;241m=\u001b[39m image[top: top \u001b[38;5;241m+\u001b[39m new_h,\n\u001b[1;32m     70\u001b[0m               left: left \u001b[38;5;241m+\u001b[39m new_w]\n\u001b[1;32m     72\u001b[0m \u001b[38;5;28;01mreturn\u001b[39;00m {\u001b[38;5;124m'\u001b[39m\u001b[38;5;124mimage\u001b[39m\u001b[38;5;124m'\u001b[39m: image, \u001b[38;5;124m'\u001b[39m\u001b[38;5;124mletter\u001b[39m\u001b[38;5;124m'\u001b[39m: sample[\u001b[38;5;124m\"\u001b[39m\u001b[38;5;124mletter\u001b[39m\u001b[38;5;124m\"\u001b[39m]}\n",
      "File \u001b[0;32mmtrand.pyx:748\u001b[0m, in \u001b[0;36mnumpy.random.mtrand.RandomState.randint\u001b[0;34m()\u001b[0m\n",
      "File \u001b[0;32m_bounded_integers.pyx:1247\u001b[0m, in \u001b[0;36mnumpy.random._bounded_integers._rand_int64\u001b[0;34m()\u001b[0m\n",
      "\u001b[0;31mValueError\u001b[0m: high <= 0"
     ]
    },
    {
     "data": {
      "image/png": "[encoded data removed]",
      "text/plain": [
       "<Figure size 432x288 with 1 Axes>"
      ]
     },
     "metadata": {
      "needs_background": "light"
     },
     "output_type": "display_data"
    }
   ],
   "source": [
    "scale = Rescale((70,70))\n",
    "crop = RandomCrop((60,60))\n",
    "composed = transforms.Compose([scale,crop])\n",
    "\n",
    "# Apply each of the above transforms on sample.\n",
    "fig = plt.figure()\n",
    "sample = letter_dataset[6]\n",
    "for i, tsfrm in enumerate([scale, crop, composed]):\n",
    "    transformed_sample = tsfrm(sample)\n",
    "\n",
    "    ax = plt.subplot(1, 3, i + 1)\n",
    "    plt.tight_layout()\n",
    "    ax.set_title(type(tsfrm).__name__)\n",
    "    plt.imshow(transformed_sample[\"image\"])\n",
    "\n",
    "plt.show()\n"
   ]
  },
  {
   "cell_type": "code",
   "execution_count": null,
   "id": "a54d4786",
   "metadata": {},
   "outputs": [],
   "source": []
  },
  {
   "cell_type": "code",
   "execution_count": null,
   "id": "dace615b",
   "metadata": {},
   "outputs": [],
   "source": []
  }
 ],
 "metadata": {
  "kernelspec": {
   "display_name": "Python 3 (ipykernel)",
   "language": "python",
   "name": "python3"
  },
  "language_info": {
   "codemirror_mode": {
    "name": "ipython",
    "version": 3
   },
   "file_extension": ".py",
   "mimetype": "text/x-python",
   "name": "python",
   "nbconvert_exporter": "python",
   "pygments_lexer": "ipython3",
   "version": "3.10.4"
  }
 },
 "nbformat": 4,
 "nbformat_minor": 5
}
