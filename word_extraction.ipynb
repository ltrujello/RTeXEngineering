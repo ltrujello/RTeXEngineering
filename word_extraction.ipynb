{
 "cells": [
  {
   "cell_type": "code",
   "execution_count": 1,
   "id": "96dd5c7a",
   "metadata": {},
   "outputs": [],
   "source": [
    "from word_extraction import PDF_Document"
   ]
  },
  {
   "cell_type": "code",
   "execution_count": 2,
   "id": "60281dee",
   "metadata": {},
   "outputs": [],
   "source": [
    "# Atiyah-Macdonald\n",
    "data = \"data/\"\n",
    "pdf_file = \"pdf/hartshorne/Hartshorne_Algebraic_Geometry.pdf\"\n",
    "\n",
    "hartshorne = PDF_Document(pdf_file, data)"
   ]
  },
  {
   "cell_type": "code",
   "execution_count": 3,
   "id": "2ec824ee",
   "metadata": {},
   "outputs": [],
   "source": [
    "hartshorne.generate_word_data()"
   ]
  },
  {
   "cell_type": "code",
   "execution_count": 2,
   "id": "e5ac5138",
   "metadata": {},
   "outputs": [],
   "source": [
    "import numpy as np\n",
    "from PIL import Image\n",
    "from pdf2image import convert_from_path\n",
    "from pathlib import Path"
   ]
  },
  {
   "cell_type": "code",
   "execution_count": 3,
   "id": "c61fdbd0",
   "metadata": {},
   "outputs": [],
   "source": [
    "def img_to_array(img_file: str) -> np.array:\n",
    "    \"\"\" Load image in as np.array.\n",
    "    \"\"\"\n",
    "    image = Image.open(img_file).convert('L')\n",
    "    w, h = image.size\n",
    "    data = np.array(list(image.getdata()), dtype=np.uint8).reshape(h, w) # store values to numpy array\n",
    "    return data"
   ]
  },
  {
   "cell_type": "code",
   "execution_count": 63,
   "id": "ec76fd87",
   "metadata": {},
   "outputs": [],
   "source": [
    "img = img_to_array(\"/home/luke/PDF_Word_Extraction/data/lorem_ipsum/page_0/sentence_0_1/words/word_0_1_13.png\")"
   ]
  },
  {
   "cell_type": "code",
   "execution_count": 64,
   "id": "e3362c9f",
   "metadata": {},
   "outputs": [],
   "source": [
    "thing = Image.fromarray(img)"
   ]
  },
  {
   "cell_type": "code",
   "execution_count": 66,
   "id": "fde1d6b7",
   "metadata": {},
   "outputs": [
    {
     "data": {
      "text/plain": [
       "(76, 259)"
      ]
     },
     "execution_count": 66,
     "metadata": {},
     "output_type": "execute_result"
    }
   ],
   "source": [
    "img.shape"
   ]
  },
  {
   "cell_type": "code",
   "execution_count": 5,
   "id": "3216b4ac",
   "metadata": {},
   "outputs": [],
   "source": [
    "def letters_in_word(word: np.array) -> list[np.array]:\n",
    "    \"\"\" Given a pixel array representing an image of a single word, we look for and extract the columns\n",
    "    of pixels which represent letters in the word.\n",
    "    \"\"\"\n",
    "    word = word.T\n",
    "    word_h = word.shape[1]\n",
    "    i = 0 \n",
    "    letters = []\n",
    "    while i < len(word) - 1:\n",
    "        letter = []\n",
    "        letter.append(word[i].reshape(word_h, 1))  # Reshape for hstack later\n",
    "        j = i \n",
    "        while j < len(word) - 1:\n",
    "            col1 = word[j]\n",
    "            col2 = word[j + 1]\n",
    "\n",
    "            col1_nonwhite = (col1 < 230).astype('int')\n",
    "            col2_nonwhite = (col2 < 230).astype('int')\n",
    "\n",
    "            if int(np.inner(col1_nonwhite, col2_nonwhite)) != 0:\n",
    "                j += 1 \n",
    "                letter.append(col2.reshape(word_h, 1))  # Reshape for hstack later\n",
    "            else:\n",
    "                break\n",
    "        i += len(letter)\n",
    "        if len(letter) > 2:  # Too small to be of any relevant detail to the eye\n",
    "            letters.append(letter)\n",
    "\n",
    "    letter_arrays = []\n",
    "    for letter in letters:\n",
    "        array = letter[0]\n",
    "        for i in range(1, len(letter)):\n",
    "            array = np.hstack((array, letter[i]))\n",
    "        letter_arrays.append(array.astype('uint8'))\n",
    "    return letter_arrays\n"
   ]
  },
  {
   "cell_type": "code",
   "execution_count": 46,
   "id": "04596b19",
   "metadata": {},
   "outputs": [
    {
     "name": "stdout",
     "output_type": "stream",
     "text": [
      "Files already downloaded and verified\n",
      "The number of images in a training set is:  50000\n",
      "Files already downloaded and verified\n",
      "The number of images in a test set is:  10000\n",
      "The number of batches per epoch is:  5000\n"
     ]
    }
   ],
   "source": [
    "from torchvision.datasets import CIFAR10\n",
    "from torchvision.transforms import transforms\n",
    "from torch.utils.data import DataLoader\n",
    "\n",
    "# Loading and normalizing the data.\n",
    "# Define transformations for the training and test sets\n",
    "transformations = transforms.Compose([\n",
    "    transforms.ToTensor(),\n",
    "    #transforms.Normalize((0.5, 0.5, 0.5), (0.5, 0.5, 0.5))\n",
    "])\n",
    "\n",
    "# CIFAR10 dataset consists of 50K training images. We define the batch size of 10 to load 5,000 batches of images.\n",
    "batch_size = 10\n",
    "number_of_labels = 10 \n",
    "\n",
    "# Create an instance for training. \n",
    "# When we run this code for the first time, the CIFAR10 train dataset will be downloaded locally. \n",
    "train_set = CIFAR10(root=\"./data\",train=True,transform=transformations,download=True)\n",
    "\n",
    "# Create a loader for the training set which will read the data within batch size and put into memory.\n",
    "train_loader = DataLoader(train_set, batch_size=batch_size, shuffle=True, num_workers=0)\n",
    "print(\"The number of images in a training set is: \", len(train_loader)*batch_size)\n",
    "\n",
    "# Create an instance for testing, note that train is set to False.\n",
    "# When we run this code for the first time, the CIFAR10 test dataset will be downloaded locally. \n",
    "test_set = CIFAR10(root=\"./data\", train=False, transform=transformations, download=True)\n",
    "\n",
    "# Create a loader for the test set which will read the data within batch size and put into memory. \n",
    "# Note that each shuffle is set to false for the test loader.\n",
    "test_loader = DataLoader(test_set, batch_size=batch_size, shuffle=False, num_workers=0)\n",
    "print(\"The number of images in a test set is: \", len(test_loader)*batch_size)\n",
    "\n",
    "print(\"The number of batches per epoch is: \", len(train_loader))\n",
    "classes = ('plane', 'car', 'bird', 'cat', 'deer', 'dog', 'frog', 'horse', 'ship', 'truck')"
   ]
  },
  {
   "cell_type": "code",
   "execution_count": 4,
   "id": "ead4fad7",
   "metadata": {},
   "outputs": [],
   "source": [
    "import matplotlib.pyplot as plt"
   ]
  },
  {
   "cell_type": "code",
   "execution_count": 47,
   "id": "ccea83ca",
   "metadata": {},
   "outputs": [],
   "source": [
    "image, label = iter(train_loader).next()"
   ]
  },
  {
   "cell_type": "code",
   "execution_count": 48,
   "id": "ba361b6a",
   "metadata": {},
   "outputs": [
    {
     "data": {
      "text/plain": [
       "torch.Size([3, 32, 32])"
      ]
     },
     "execution_count": 48,
     "metadata": {},
     "output_type": "execute_result"
    }
   ],
   "source": [
    "image[0].shape"
   ]
  },
  {
   "cell_type": "code",
   "execution_count": 61,
   "id": "4cea4883",
   "metadata": {},
   "outputs": [
    {
     "data": {
      "text/plain": [
       "<matplotlib.image.AxesImage at 0x7fa2e7583610>"
      ]
     },
     "execution_count": 61,
     "metadata": {},
     "output_type": "execute_result"
    },
    {
     "data": {
      "image/png": "[encoded data removed]",
      "text/plain": [
       "<Figure size 432x288 with 1 Axes>"
      ]
     },
     "metadata": {
      "needs_background": "light"
     },
     "output_type": "display_data"
    }
   ],
   "source": [
    "plt.imshow(image[9].permute(1, 2, 0))"
   ]
  },
  {
   "cell_type": "code",
   "execution_count": 118,
   "id": "9a862689",
   "metadata": {},
   "outputs": [],
   "source": [
    "from torch.utils.data import Dataset, DataLoader\n",
    "from skimage import io, transform\n",
    "\n",
    "from pathlib import Path\n",
    "import pandas as pd\n",
    "import torch\n",
    "\n",
    "letters = [ \n",
    "\"a\", \"b\", \"c\", \"d\", \"e\", \"f\", \"g\", \"h\", \"i\", \"j\", \"k\", \"l\", \"m\", \"n\", \"o\", \"p\", \"q\", \"r\", \"s\", \"t\", \"u\", \"v\", \"w\", \"x\", \"y\", \"z\",\n",
    "\"A\", \"B\", \"C\", \"D\", \"E\", \"F\", \"G\", \"H\", \"I\", \"J\", \"K\", \"L\", \"M\", \"N\", \"O\", \"P\", \"Q\", \"R\", \"S\", \"T\", \"U\", \"V\", \"W\", \"X\", \"Y\", \"Z\",\n",
    "]\n",
    "\n",
    "def get_letter_ind(letter):\n",
    "    for idx, symbol in enumerate(letters):\n",
    "        if symbol == letter:\n",
    "            return idx \n",
    "    print(f\"Could not find index of {letter=}\")\n",
    "    return None\n",
    "\n",
    "\n",
    "\n",
    "class LetterDataset(Dataset):\n",
    "    \"\"\"Letter dataset.\"\"\"\n",
    "\n",
    "    def __init__(self, csv_file, root_dir, transform=None):\n",
    "        \"\"\" \n",
    "        Args:\n",
    "            csv_file (string): Path to the csv file with annotations.\n",
    "            root_dir (string): Directory with all the images.\n",
    "            transform (callable, optional): Optional transform to be applied\n",
    "                on a sample.\n",
    "        \"\"\"\n",
    "        self.letters_frame = pd.read_csv(csv_file)\n",
    "        self.root_dir = Path(root_dir)\n",
    "        self.transform = transform\n",
    "\n",
    "    def __len__(self):\n",
    "        return len(self.letters_frame)\n",
    "\n",
    "    def __getitem__(self, idx):\n",
    "        if torch.is_tensor(idx):\n",
    "            idx = idx.tolist()\n",
    "\n",
    "        img_name = self.letters_frame.iloc[idx, 0]\n",
    "        image = io.imread(img_name)\n",
    "        letter = self.letters_frame.iloc[idx, 1] \n",
    "        letter_ind = get_letter_ind(letter)\n",
    "        letter_vec = np.zeros(len(letters))\n",
    "        letter_vec[letter_ind] = 1 \n",
    "        sample = {\"image\": image, \"letter\": letter_vec}\n",
    "            \n",
    "        if self.transform:\n",
    "            sample = self.transform(sample[\"image\"])\n",
    "\n",
    "        return sample\n"
   ]
  },
  {
   "cell_type": "code",
   "execution_count": 119,
   "id": "16a28bde",
   "metadata": {},
   "outputs": [],
   "source": [
    "letter_dataset = LetterDataset(\"data/letters/labels.csv\", \"asdas\")"
   ]
  },
  {
   "cell_type": "code",
   "execution_count": 94,
   "id": "812615d4",
   "metadata": {},
   "outputs": [],
   "source": [
    "b = a[4]"
   ]
  },
  {
   "cell_type": "code",
   "execution_count": 95,
   "id": "54fbd90b",
   "metadata": {},
   "outputs": [
    {
     "data": {
      "text/plain": [
       "(59, 57)"
      ]
     },
     "execution_count": 95,
     "metadata": {},
     "output_type": "execute_result"
    }
   ],
   "source": [
    "b[\"image\"].shape"
   ]
  },
  {
   "cell_type": "code",
   "execution_count": 96,
   "id": "d5bfd72d",
   "metadata": {},
   "outputs": [
    {
     "data": {
      "text/plain": [
       "<matplotlib.image.AxesImage at 0x7fa2ab77cfa0>"
      ]
     },
     "execution_count": 96,
     "metadata": {},
     "output_type": "execute_result"
    },
    {
     "data": {
      "image/png": "[encoded data removed]",
      "text/plain": [
       "<Figure size 432x288 with 1 Axes>"
      ]
     },
     "metadata": {
      "needs_background": "light"
     },
     "output_type": "display_data"
    }
   ],
   "source": [
    "plt.imshow(b[\"image\"])"
   ]
  },
  {
   "cell_type": "code",
   "execution_count": 6,
   "id": "9c3b400f",
   "metadata": {},
   "outputs": [],
   "source": [
    "import torch\n",
    "from skimage import transform\n",
    "\n",
    "\n",
    "class Rescale(object):\n",
    "    \"\"\"Rescale the image in a sample to a given size.\n",
    "\n",
    "    Args:\n",
    "        output_size (tuple or int): Desired output size. If tuple, output is\n",
    "            matched to output_size. If int, smaller of image edges is matched\n",
    "            to output_size keeping aspect ratio the same.\n",
    "    \"\"\"\n",
    "\n",
    "    def __init__(self, output_size):\n",
    "        assert isinstance(output_size, (int, tuple))\n",
    "        self.output_size = output_size\n",
    "\n",
    "    def __call__(self, sample):\n",
    "        image = sample['image']\n",
    "\n",
    "        h, w = image.shape[:2]\n",
    "        if isinstance(self.output_size, int):\n",
    "            if h > w:\n",
    "                new_h, new_w = self.output_size * h / w, self.output_size\n",
    "            else:\n",
    "                new_h, new_w = self.output_size, self.output_size * w / h\n",
    "        else:\n",
    "            new_h, new_w = self.output_size\n",
    "\n",
    "        new_h, new_w = int(new_h), int(new_w)\n",
    "\n",
    "        img = transform.resize(image, (new_h, new_w))\n",
    "\n",
    "        return {'image': img, 'letter': sample[\"letter\"]}\n",
    "\n",
    "class RandomCrop(object):\n",
    "    \"\"\"Crop randomly the image in a sample.\n",
    "\n",
    "    Args:\n",
    "        output_size (tuple or int): Desired output size. If int, square crop\n",
    "            is made.\n",
    "    \"\"\"\n",
    "\n",
    "    def __init__(self, output_size):\n",
    "        assert isinstance(output_size, (int, tuple))\n",
    "        if isinstance(output_size, int):\n",
    "            self.output_size = (output_size, output_size)\n",
    "        else:\n",
    "            assert len(output_size) == 2\n",
    "            self.output_size = output_size\n",
    "\n",
    "    def __call__(self, sample):\n",
    "        image = sample['image']\n",
    "\n",
    "        h, w = image.shape[:2]\n",
    "        new_h, new_w = self.output_size\n",
    "        \n",
    "        if h - new_h <= 0:\n",
    "            print(f\"input shape is ({h=}, {w=})\")\n",
    "            print(f\"h - new_h <=0, {h=}, {new_h=}\")\n",
    "\n",
    "        if w - new_w <= 0:\n",
    "            print(f\"input shape is ({h=}, {w=})\")\n",
    "            print(f\"w - new_w <=0, {w=}, {new_w=}\")\n",
    "            \n",
    "        top = np.random.randint(0, h - new_h)\n",
    "        left = np.random.randint(0, w - new_w)\n",
    "\n",
    "        image = image[top: top + new_h,\n",
    "                      left: left + new_w]\n",
    "\n",
    "        return {'image': image, 'letter': sample[\"letter\"]}\n",
    "\n",
    "\n",
    "class ToTensor(object):\n",
    "    \"\"\"Convert ndarrays in sample to Tensors.\"\"\"\n",
    "\n",
    "    def __call__(self, sample):\n",
    "        image, letter = sample['image'], sample['letter']\n",
    "\n",
    "        # swap color axis because\n",
    "        # numpy image: H x W x C\n",
    "        # torch image: C x H x W\n",
    "        image = image.transpose((2, 0, 1))\n",
    "        return {'image': torch.from_numpy(image),\n",
    "                'letter': torch.from_numpy(letter)}\n"
   ]
  },
  {
   "cell_type": "code",
   "execution_count": 118,
   "id": "beed3e89",
   "metadata": {},
   "outputs": [],
   "source": [
    "scale = Rescale((70,70))\n",
    "crop = RandomCrop((50,50))\n",
    "composed = transforms.Compose([scale, crop])"
   ]
  },
  {
   "cell_type": "code",
   "execution_count": 119,
   "id": "39bffa50",
   "metadata": {},
   "outputs": [
    {
     "data": {
      "text/plain": [
       "<matplotlib.image.AxesImage at 0x7fa2ab2b5870>"
      ]
     },
     "execution_count": 119,
     "metadata": {},
     "output_type": "execute_result"
    },
    {
     "data": {
      "image/png": "[encoded data removed]",
      "text/plain": [
       "<Figure size 432x288 with 1 Axes>"
      ]
     },
     "metadata": {
      "needs_background": "light"
     },
     "output_type": "display_data"
    }
   ],
   "source": [
    "plt.imshow(crop(sample)[\"image\"])"
   ]
  },
  {
   "cell_type": "code",
   "execution_count": 141,
   "id": "b5eca331",
   "metadata": {},
   "outputs": [
    {
     "name": "stdout",
     "output_type": "stream",
     "text": [
      "input shape is (h=75, w=55)\n",
      "w - new_w <=0, w=55, new_w=60\n"
     ]
    },
    {
     "ename": "ValueError",
     "evalue": "high <= 0",
     "output_type": "error",
     "traceback": [
      "\u001b[0;31m---------------------------------------------------------------------------\u001b[0m",
      "\u001b[0;31mValueError\u001b[0m                                Traceback (most recent call last)",
      "Input \u001b[0;32mIn [141]\u001b[0m, in \u001b[0;36m<cell line: 8>\u001b[0;34m()\u001b[0m\n\u001b[1;32m      7\u001b[0m sample \u001b[38;5;241m=\u001b[39m letter_dataset[\u001b[38;5;241m6\u001b[39m]\n\u001b[1;32m      8\u001b[0m \u001b[38;5;28;01mfor\u001b[39;00m i, tsfrm \u001b[38;5;129;01min\u001b[39;00m \u001b[38;5;28menumerate\u001b[39m([scale, crop, composed]):\n\u001b[0;32m----> 9\u001b[0m     transformed_sample \u001b[38;5;241m=\u001b[39m \u001b[43mtsfrm\u001b[49m\u001b[43m(\u001b[49m\u001b[43msample\u001b[49m\u001b[43m)\u001b[49m\n\u001b[1;32m     11\u001b[0m     ax \u001b[38;5;241m=\u001b[39m plt\u001b[38;5;241m.\u001b[39msubplot(\u001b[38;5;241m1\u001b[39m, \u001b[38;5;241m3\u001b[39m, i \u001b[38;5;241m+\u001b[39m \u001b[38;5;241m1\u001b[39m)\n\u001b[1;32m     12\u001b[0m     plt\u001b[38;5;241m.\u001b[39mtight_layout()\n",
      "Input \u001b[0;32mIn [140]\u001b[0m, in \u001b[0;36mRandomCrop.__call__\u001b[0;34m(self, sample)\u001b[0m\n\u001b[1;32m     64\u001b[0m     \u001b[38;5;28mprint\u001b[39m(\u001b[38;5;124mf\u001b[39m\u001b[38;5;124m\"\u001b[39m\u001b[38;5;124mw - new_w <=0, \u001b[39m\u001b[38;5;132;01m{\u001b[39;00mw\u001b[38;5;132;01m=}\u001b[39;00m\u001b[38;5;124m, \u001b[39m\u001b[38;5;132;01m{\u001b[39;00mnew_w\u001b[38;5;132;01m=}\u001b[39;00m\u001b[38;5;124m\"\u001b[39m)\n\u001b[1;32m     66\u001b[0m top \u001b[38;5;241m=\u001b[39m np\u001b[38;5;241m.\u001b[39mrandom\u001b[38;5;241m.\u001b[39mrandint(\u001b[38;5;241m0\u001b[39m, h \u001b[38;5;241m-\u001b[39m new_h)\n\u001b[0;32m---> 67\u001b[0m left \u001b[38;5;241m=\u001b[39m \u001b[43mnp\u001b[49m\u001b[38;5;241;43m.\u001b[39;49m\u001b[43mrandom\u001b[49m\u001b[38;5;241;43m.\u001b[39;49m\u001b[43mrandint\u001b[49m\u001b[43m(\u001b[49m\u001b[38;5;241;43m0\u001b[39;49m\u001b[43m,\u001b[49m\u001b[43m \u001b[49m\u001b[43mw\u001b[49m\u001b[43m \u001b[49m\u001b[38;5;241;43m-\u001b[39;49m\u001b[43m \u001b[49m\u001b[43mnew_w\u001b[49m\u001b[43m)\u001b[49m\n\u001b[1;32m     69\u001b[0m image \u001b[38;5;241m=\u001b[39m image[top: top \u001b[38;5;241m+\u001b[39m new_h,\n\u001b[1;32m     70\u001b[0m               left: left \u001b[38;5;241m+\u001b[39m new_w]\n\u001b[1;32m     72\u001b[0m \u001b[38;5;28;01mreturn\u001b[39;00m {\u001b[38;5;124m'\u001b[39m\u001b[38;5;124mimage\u001b[39m\u001b[38;5;124m'\u001b[39m: image, \u001b[38;5;124m'\u001b[39m\u001b[38;5;124mletter\u001b[39m\u001b[38;5;124m'\u001b[39m: sample[\u001b[38;5;124m\"\u001b[39m\u001b[38;5;124mletter\u001b[39m\u001b[38;5;124m\"\u001b[39m]}\n",
      "File \u001b[0;32mmtrand.pyx:748\u001b[0m, in \u001b[0;36mnumpy.random.mtrand.RandomState.randint\u001b[0;34m()\u001b[0m\n",
      "File \u001b[0;32m_bounded_integers.pyx:1247\u001b[0m, in \u001b[0;36mnumpy.random._bounded_integers._rand_int64\u001b[0;34m()\u001b[0m\n",
      "\u001b[0;31mValueError\u001b[0m: high <= 0"
     ]
    },
    {
     "data": {
      "image/png": "[encoded data removed]",
      "text/plain": [
       "<Figure size 432x288 with 1 Axes>"
      ]
     },
     "metadata": {
      "needs_background": "light"
     },
     "output_type": "display_data"
    }
   ],
   "source": [
    "scale = Rescale((70,70))\n",
    "crop = RandomCrop((60,60))\n",
    "composed = transforms.Compose([scale,crop])\n",
    "\n",
    "# Apply each of the above transforms on sample.\n",
    "fig = plt.figure()\n",
    "sample = letter_dataset[6]\n",
    "for i, tsfrm in enumerate([scale, crop, composed]):\n",
    "    transformed_sample = tsfrm(sample)\n",
    "\n",
    "    ax = plt.subplot(1, 3, i + 1)\n",
    "    plt.tight_layout()\n",
    "    ax.set_title(type(tsfrm).__name__)\n",
    "    plt.imshow(transformed_sample[\"image\"])\n",
    "\n",
    "plt.show()\n"
   ]
  },
  {
   "cell_type": "code",
   "execution_count": 164,
   "id": "9775376c",
   "metadata": {},
   "outputs": [],
   "source": [
    "from torchvision.transforms import CenterCrop, Pad\n",
    "a = Pad(10, fill=255)"
   ]
  },
  {
   "cell_type": "code",
   "execution_count": 168,
   "id": "cc850d2f",
   "metadata": {},
   "outputs": [
    {
     "data": {
      "text/plain": [
       "(75, 55)"
      ]
     },
     "execution_count": 168,
     "metadata": {},
     "output_type": "execute_result"
    }
   ],
   "source": [
    "sample[\"image\"].shape"
   ]
  },
  {
   "cell_type": "code",
   "execution_count": 169,
   "id": "16eb8723",
   "metadata": {},
   "outputs": [],
   "source": [
    "b = a(torch.from_numpy(sample[\"image\"]))"
   ]
  },
  {
   "cell_type": "code",
   "execution_count": 170,
   "id": "783b4baf",
   "metadata": {},
   "outputs": [
    {
     "data": {
      "text/plain": [
       "torch.Size([95, 75])"
      ]
     },
     "execution_count": 170,
     "metadata": {},
     "output_type": "execute_result"
    }
   ],
   "source": [
    "b.shape"
   ]
  },
  {
   "cell_type": "code",
   "execution_count": 171,
   "id": "4071343d",
   "metadata": {},
   "outputs": [
    {
     "data": {
      "text/plain": [
       "<matplotlib.image.AxesImage at 0x7fa2a80befe0>"
      ]
     },
     "execution_count": 171,
     "metadata": {},
     "output_type": "execute_result"
    },
    {
     "data": {
      "image/png": "[encoded data removed]",
      "text/plain": [
       "<Figure size 432x288 with 1 Axes>"
      ]
     },
     "metadata": {
      "needs_background": "light"
     },
     "output_type": "display_data"
    }
   ],
   "source": [
    "plt.imshow(b)"
   ]
  },
  {
   "cell_type": "code",
   "execution_count": 172,
   "id": "fd766f60",
   "metadata": {},
   "outputs": [
    {
     "data": {
      "text/plain": [
       "<matplotlib.image.AxesImage at 0x7fa2a80cb220>"
      ]
     },
     "execution_count": 172,
     "metadata": {},
     "output_type": "execute_result"
    },
    {
     "data": {
      "image/png": "[encoded data removed]",
      "text/plain": [
       "<Figure size 432x288 with 1 Axes>"
      ]
     },
     "metadata": {
      "needs_background": "light"
     },
     "output_type": "display_data"
    }
   ],
   "source": [
    "c = CenterCrop((70, 70))\n",
    "d = c(b)\n",
    "plt.imshow(d)"
   ]
  },
  {
   "cell_type": "code",
   "execution_count": 173,
   "id": "5acfbef6",
   "metadata": {},
   "outputs": [
    {
     "data": {
      "text/plain": [
       "torch.Size([70, 70])"
      ]
     },
     "execution_count": 173,
     "metadata": {},
     "output_type": "execute_result"
    }
   ],
   "source": [
    "d.shape"
   ]
  },
  {
   "cell_type": "code",
   "execution_count": 261,
   "id": "39e95e47",
   "metadata": {},
   "outputs": [
    {
     "name": "stdout",
     "output_type": "stream",
     "text": [
      "1 73 19\n",
      "8 71 38\n",
      "10 76 37\n",
      "17 54 38\n",
      "19 74 34\n",
      "20 54 28\n",
      "25 88 20\n",
      "27 54 36\n",
      "34 52 28\n",
      "35 51 31\n",
      "36 54 31\n",
      "37 54 32\n",
      "45 72 24\n",
      "46 68 26\n",
      "49 74 27\n",
      "51 71 18\n"
     ]
    },
    {
     "data": {
      "text/plain": [
       "[<matplotlib.lines.Line2D at 0x7fa2a72f9630>]"
      ]
     },
     "execution_count": 261,
     "metadata": {},
     "output_type": "execute_result"
    },
    {
     "data": {
      "image/png": "[encoded data removed]",
      "text/plain": [
       "<Figure size 432x288 with 1 Axes>"
      ]
     },
     "metadata": {
      "needs_background": "light"
     },
     "output_type": "display_data"
    }
   ],
   "source": [
    "x_data = []\n",
    "y_data = []\n",
    "\n",
    "for i in range(len(letter_dataset)):\n",
    "    img = letter_dataset[i][\"image\"]\n",
    "    x = img.shape[0]\n",
    "    y = img.shape[1]\n",
    "    \n",
    "    x_data.append(x)\n",
    "    y_data.append(y)\n",
    "    \n",
    "    if x < 40 or y < 40:\n",
    "        print(i, x, y)n\n",
    "    \n",
    "plt.plot(x_data, y_data, 'o')"
   ]
  },
  {
   "cell_type": "code",
   "execution_count": 98,
   "id": "1a47d422",
   "metadata": {},
   "outputs": [
    {
     "name": "stdout",
     "output_type": "stream",
     "text": [
      "1 59 19\n",
      "7 39 42\n",
      "8 57 38\n",
      "9 37 42\n",
      "10 62 37\n",
      "14 38 42\n",
      "17 39 38\n",
      "19 60 34\n",
      "20 39 28\n",
      "25 74 20\n",
      "26 38 41\n",
      "27 39 36\n",
      "30 38 64\n",
      "32 38 57\n",
      "34 38 28\n",
      "35 37 31\n",
      "36 39 31\n",
      "37 39 32\n",
      "45 58 24\n",
      "46 53 26\n",
      "49 60 27\n",
      "51 57 18\n"
     ]
    },
    {
     "data": {
      "text/plain": [
       "[<matplotlib.lines.Line2D at 0x7fdde9912fb0>]"
      ]
     },
     "execution_count": 98,
     "metadata": {},
     "output_type": "execute_result"
    },
    {
     "data": {
      "image/png": "[encoded data removed]",
      "text/plain": [
       "<Figure size 432x288 with 1 Axes>"
      ]
     },
     "metadata": {
      "needs_background": "light"
     },
     "output_type": "display_data"
    }
   ],
   "source": [
    "x_data = []\n",
    "y_data = []\n",
    "\n",
    "for i in range(len(letter_dataset)):\n",
    "    img = letter_dataset[i][\"image\"]\n",
    "    x = img.shape[0]\n",
    "    y = img.shape[1]\n",
    "    \n",
    "    x_data.append(x)\n",
    "    y_data.append(y)\n",
    "    \n",
    "    if x < 40 or y < 40:\n",
    "        print(i, x, y)\n",
    "    \n",
    "plt.plot(x_data, y_data, 'o')"
   ]
  },
  {
   "cell_type": "code",
   "execution_count": 99,
   "id": "2da734fd",
   "metadata": {},
   "outputs": [
    {
     "data": {
      "text/plain": [
       "<matplotlib.image.AxesImage at 0x7fdde9982140>"
      ]
     },
     "execution_count": 99,
     "metadata": {},
     "output_type": "execute_result"
    },
    {
     "data": {
      "image/png": "[encoded data removed]",
      "text/plain": [
       "<Figure size 432x288 with 1 Axes>"
      ]
     },
     "metadata": {
      "needs_background": "light"
     },
     "output_type": "display_data"
    }
   ],
   "source": [
    "plt.imshow(letter_dataset[49][\"image\"])"
   ]
  },
  {
   "cell_type": "code",
   "execution_count": 120,
   "id": "b0436d01",
   "metadata": {},
   "outputs": [],
   "source": [
    "import math\n",
    "from torchvision.transforms import Pad, CenterCrop\n",
    "\n",
    "class CustomPad:\n",
    "    def __init__(self, output_size: tuple[float, float]):\n",
    "        self.output_size = output_size\n",
    "        \n",
    "\n",
    "    def __call__(self, image):\n",
    "        h, w = image.shape[:2]\n",
    "        new_h, new_w = self.output_size\n",
    "\n",
    "        left_pad = 0\n",
    "        top_pad = 0\n",
    "        right_pad = 0\n",
    "        bottom_pad = 0\n",
    "\n",
    "        if (horiz_pad := new_w - w) > 0:\n",
    "            left_pad = math.ceil(horiz_pad / 2) \n",
    "            right_pad = math.floor(horiz_pad / 2) \n",
    "            \n",
    "        if (vertical_pad := new_h - h) > 0:\n",
    "            top_pad = math.ceil(vertical_pad / 2) \n",
    "            bottom_pad = math.floor(vertical_pad / 2) \n",
    "            \n",
    "        padding = Pad((left_pad, top_pad, right_pad, bottom_pad), fill=255)\n",
    "        if isinstance(image, np.ndarray):\n",
    "            image = torch.from_numpy(image)\n",
    "        image = padding(image)\n",
    "        \n",
    "        return image\n",
    "        \n",
    "class CustomCenterCrop:\n",
    "    def __init__(self, output_size: tuple[float, float]):\n",
    "        self.output_size = output_size\n",
    "        self.torch_center_crop = CenterCrop(output_size)\n",
    "\n",
    "    def __call__(self, image):\n",
    "        if isinstance(image, np.ndarray):\n",
    "            image = torch.from_numpy(image)\n",
    "        \n",
    "        image = self.torch_center_crop(image)\n",
    "        return image       "
   ]
  },
  {
   "cell_type": "code",
   "execution_count": 169,
   "id": "d647722a",
   "metadata": {},
   "outputs": [],
   "source": [
    "from torchvision import transforms, utils\n",
    "\n",
    "trans = transforms.Compose([\n",
    "CustomPad((100, 100)),\n",
    "#CustomCenterCrop((90, 90)),\n",
    "transforms.RandomCrop((80, 80))\n",
    "])\n",
    "\n",
    "letter_dataset = LetterDataset(\"data/letters/labels.csv\", \"asdas\", trans)"
   ]
  },
  {
   "cell_type": "code",
   "execution_count": 191,
   "id": "ae5e0046",
   "metadata": {},
   "outputs": [
    {
     "data": {
      "text/plain": [
       "<matplotlib.image.AxesImage at 0x7fdde80e8790>"
      ]
     },
     "execution_count": 191,
     "metadata": {},
     "output_type": "execute_result"
    },
    {
     "data": {
      "image/png": "[encoded data removed]",
      "text/plain": [
       "<Figure size 432x288 with 1 Axes>"
      ]
     },
     "metadata": {
      "needs_background": "light"
     },
     "output_type": "display_data"
    }
   ],
   "source": [
    "plt.imshow(letter_dataset[13])"
   ]
  },
  {
   "cell_type": "code",
   "execution_count": 127,
   "id": "4aedb180",
   "metadata": {},
   "outputs": [
    {
     "data": {
      "text/plain": [
       "<matplotlib.image.AxesImage at 0x7fdde9333f40>"
      ]
     },
     "execution_count": 127,
     "metadata": {},
     "output_type": "execute_result"
    },
    {
     "data": {
      "image/png": "[encoded data removed]",
      "text/plain": [
       "<Figure size 432x288 with 1 Axes>"
      ]
     },
     "metadata": {
      "needs_background": "light"
     },
     "output_type": "display_data"
    }
   ],
   "source": [
    "plt.imshow(letter_dataset[48])"
   ]
  },
  {
   "cell_type": "code",
   "execution_count": 48,
   "id": "5ed12545",
   "metadata": {},
   "outputs": [],
   "source": [
    "img = img_to_array(\"/home/luke/PDF_Word_Extraction/data/letters/j/page_0.png\")\n"
   ]
  },
  {
   "cell_type": "code",
   "execution_count": 78,
   "id": "5a5951f5",
   "metadata": {},
   "outputs": [],
   "source": [
    "def sentences_in_page(page: np.array) -> list[np.array]:\n",
    "    \"\"\" Given a pixel array representing an image of a single page, we return a list of pixel arrays,\n",
    "    obtained from the image of the page, which represent the sentences in the page.\n",
    "    \"\"\"\n",
    "    row_ind = 0\n",
    "    sentences = []\n",
    "    while row_ind < len(page) - 1:\n",
    "        sentence = []\n",
    "        row = page[row_ind].reshape(1, len(page[row_ind]))  # reshape for vstack\n",
    "        sentence.append(row)\n",
    "        j = row_ind\n",
    "        while j < len(page) - 1:  # -1 since we grab two rows at a time\n",
    "            row1 = page[j].reshape(1, len(page[j]))\n",
    "            row2 = page[j + 1].reshape(1, len(page[j + 1]))\n",
    "\n",
    "            # We now examine what pixels in the rows are nonwhite\n",
    "            row1_nonwhite = (row1 < 230).astype(\"int\")  # Cast bool values to 1s and 0s\n",
    "            row2_nonwhite = (row2 < 230).astype(\"int\")\n",
    "            # Take their dot product and check if it's zero; it's nonzero if we're scanning a set of letters.\n",
    "            rows_are_nonwhite = np.inner(row1_nonwhite, row2_nonwhite) != 0\n",
    "            if np.inner(row1_nonwhite, row2_nonwhite) != 0 or ((np.sum(page[j:j+15] < 255) > 0) and len(sentence) > 1):\n",
    "                print(f\"{rows_are_nonwhite=} and {len(sentence)=}\")\n",
    "                sentence.append(row2)\n",
    "                j += 1\n",
    "            else:\n",
    "                break\n",
    "        row_ind += len(sentence)\n",
    "        if len(sentence) > 2:\n",
    "            sentences.append(sentence)\n",
    "\n",
    "    sentence_arrays = []\n",
    "    # We now stack our rows of pixel data to create sentences, and return the list of sentences.\n",
    "    for sentence in sentences:\n",
    "        array = sentence[0]\n",
    "        for row_ind in range(1, len(sentence)):\n",
    "            array = np.vstack((array, sentence[row_ind]))\n",
    "        sentence_arrays.append(array.astype('uint8'))\n",
    "    return sentence_arrays"
   ]
  },
  {
   "cell_type": "code",
   "execution_count": 79,
   "id": "9290f8a9",
   "metadata": {},
   "outputs": [
    {
     "name": "stdout",
     "output_type": "stream",
     "text": [
      "rows_are_nonwhite=array([[ True]]) and len(sentence)=1\n",
      "rows_are_nonwhite=array([[ True]]) and len(sentence)=2\n",
      "rows_are_nonwhite=array([[ True]]) and len(sentence)=3\n",
      "rows_are_nonwhite=array([[ True]]) and len(sentence)=4\n",
      "rows_are_nonwhite=array([[ True]]) and len(sentence)=5\n",
      "rows_are_nonwhite=array([[ True]]) and len(sentence)=6\n",
      "rows_are_nonwhite=array([[ True]]) and len(sentence)=7\n",
      "rows_are_nonwhite=array([[ True]]) and len(sentence)=8\n",
      "rows_are_nonwhite=array([[False]]) and len(sentence)=9\n",
      "rows_are_nonwhite=array([[False]]) and len(sentence)=10\n",
      "rows_are_nonwhite=array([[False]]) and len(sentence)=11\n",
      "rows_are_nonwhite=array([[False]]) and len(sentence)=12\n",
      "rows_are_nonwhite=array([[False]]) and len(sentence)=13\n",
      "rows_are_nonwhite=array([[False]]) and len(sentence)=14\n",
      "rows_are_nonwhite=array([[False]]) and len(sentence)=15\n",
      "rows_are_nonwhite=array([[False]]) and len(sentence)=16\n",
      "rows_are_nonwhite=array([[False]]) and len(sentence)=17\n",
      "rows_are_nonwhite=array([[False]]) and len(sentence)=18\n",
      "rows_are_nonwhite=array([[False]]) and len(sentence)=19\n",
      "rows_are_nonwhite=array([[ True]]) and len(sentence)=20\n",
      "rows_are_nonwhite=array([[ True]]) and len(sentence)=21\n",
      "rows_are_nonwhite=array([[ True]]) and len(sentence)=22\n",
      "rows_are_nonwhite=array([[ True]]) and len(sentence)=23\n",
      "rows_are_nonwhite=array([[ True]]) and len(sentence)=24\n",
      "rows_are_nonwhite=array([[ True]]) and len(sentence)=25\n",
      "rows_are_nonwhite=array([[ True]]) and len(sentence)=26\n",
      "rows_are_nonwhite=array([[ True]]) and len(sentence)=27\n",
      "rows_are_nonwhite=array([[ True]]) and len(sentence)=28\n",
      "rows_are_nonwhite=array([[ True]]) and len(sentence)=29\n",
      "rows_are_nonwhite=array([[ True]]) and len(sentence)=30\n",
      "rows_are_nonwhite=array([[ True]]) and len(sentence)=31\n",
      "rows_are_nonwhite=array([[ True]]) and len(sentence)=32\n",
      "rows_are_nonwhite=array([[ True]]) and len(sentence)=33\n",
      "rows_are_nonwhite=array([[ True]]) and len(sentence)=34\n",
      "rows_are_nonwhite=array([[ True]]) and len(sentence)=35\n",
      "rows_are_nonwhite=array([[ True]]) and len(sentence)=36\n",
      "rows_are_nonwhite=array([[ True]]) and len(sentence)=37\n",
      "rows_are_nonwhite=array([[ True]]) and len(sentence)=38\n",
      "rows_are_nonwhite=array([[ True]]) and len(sentence)=39\n",
      "rows_are_nonwhite=array([[ True]]) and len(sentence)=40\n",
      "rows_are_nonwhite=array([[ True]]) and len(sentence)=41\n",
      "rows_are_nonwhite=array([[ True]]) and len(sentence)=42\n",
      "rows_are_nonwhite=array([[ True]]) and len(sentence)=43\n",
      "rows_are_nonwhite=array([[ True]]) and len(sentence)=44\n",
      "rows_are_nonwhite=array([[ True]]) and len(sentence)=45\n",
      "rows_are_nonwhite=array([[ True]]) and len(sentence)=46\n",
      "rows_are_nonwhite=array([[ True]]) and len(sentence)=47\n",
      "rows_are_nonwhite=array([[ True]]) and len(sentence)=48\n",
      "rows_are_nonwhite=array([[ True]]) and len(sentence)=49\n",
      "rows_are_nonwhite=array([[ True]]) and len(sentence)=50\n",
      "rows_are_nonwhite=array([[ True]]) and len(sentence)=51\n",
      "rows_are_nonwhite=array([[ True]]) and len(sentence)=52\n",
      "rows_are_nonwhite=array([[ True]]) and len(sentence)=53\n",
      "rows_are_nonwhite=array([[ True]]) and len(sentence)=54\n",
      "rows_are_nonwhite=array([[ True]]) and len(sentence)=55\n",
      "rows_are_nonwhite=array([[ True]]) and len(sentence)=56\n",
      "rows_are_nonwhite=array([[ True]]) and len(sentence)=57\n",
      "rows_are_nonwhite=array([[ True]]) and len(sentence)=58\n",
      "rows_are_nonwhite=array([[ True]]) and len(sentence)=59\n",
      "rows_are_nonwhite=array([[ True]]) and len(sentence)=60\n",
      "rows_are_nonwhite=array([[ True]]) and len(sentence)=61\n",
      "rows_are_nonwhite=array([[ True]]) and len(sentence)=62\n",
      "rows_are_nonwhite=array([[ True]]) and len(sentence)=63\n",
      "rows_are_nonwhite=array([[ True]]) and len(sentence)=64\n",
      "rows_are_nonwhite=array([[ True]]) and len(sentence)=65\n",
      "rows_are_nonwhite=array([[ True]]) and len(sentence)=66\n",
      "rows_are_nonwhite=array([[ True]]) and len(sentence)=67\n",
      "rows_are_nonwhite=array([[ True]]) and len(sentence)=68\n",
      "rows_are_nonwhite=array([[ True]]) and len(sentence)=69\n",
      "rows_are_nonwhite=array([[ True]]) and len(sentence)=70\n",
      "rows_are_nonwhite=array([[ True]]) and len(sentence)=71\n",
      "rows_are_nonwhite=array([[ True]]) and len(sentence)=72\n",
      "rows_are_nonwhite=array([[False]]) and len(sentence)=73\n"
     ]
    }
   ],
   "source": [
    "a = sentences_in_page(img)\n",
    "b = words_in_sentence(a[0])\n",
    "c = letters_in_word(b[0])"
   ]
  },
  {
   "cell_type": "code",
   "execution_count": 80,
   "id": "f6c5f0d1",
   "metadata": {},
   "outputs": [
    {
     "data": {
      "text/plain": [
       "<matplotlib.image.AxesImage at 0x7fddeb8c1cc0>"
      ]
     },
     "execution_count": 80,
     "metadata": {},
     "output_type": "execute_result"
    },
    {
     "data": {
      "image/png": "[encoded data removed]",
      "text/plain": [
       "<Figure size 432x288 with 1 Axes>"
      ]
     },
     "metadata": {
      "needs_background": "light"
     },
     "output_type": "display_data"
    }
   ],
   "source": [
    "plt.imshow(c[0])"
   ]
  },
  {
   "cell_type": "markdown",
   "id": "439769ad",
   "metadata": {},
   "source": []
  }
 ],
 "metadata": {
  "kernelspec": {
   "display_name": "Python 3 (ipykernel)",
   "language": "python",
   "name": "python3"
  },
  "language_info": {
   "codemirror_mode": {
    "name": "ipython",
    "version": 3
   },
   "file_extension": ".py",
   "mimetype": "text/x-python",
   "name": "python",
   "nbconvert_exporter": "python",
   "pygments_lexer": "ipython3",
   "version": "3.10.4"
  }
 },
 "nbformat": 4,
 "nbformat_minor": 5
}
